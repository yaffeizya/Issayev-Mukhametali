{
 "cells": [
  {
   "cell_type": "markdown",
   "id": "29fd12f1-a503-48ed-a1dd-64d1486014b7",
   "metadata": {},
   "source": [
    "task 1\n"
   ]
  },
  {
   "cell_type": "code",
   "execution_count": 1,
   "id": "b53018e4-67b9-462e-9c2a-cb625beeedce",
   "metadata": {},
   "outputs": [
    {
     "name": "stdout",
     "output_type": "stream",
     "text": [
      "Hello, World!\n"
     ]
    }
   ],
   "source": [
    "print(\"Hello, World!\")\n"
   ]
  },
  {
   "cell_type": "markdown",
   "id": "bd3dbb0e-f776-47cb-9b74-55073046d729",
   "metadata": {},
   "source": [
    "task 2"
   ]
  },
  {
   "cell_type": "code",
   "execution_count": 2,
   "id": "561c57fb-67e6-4921-95bd-e877b8714bae",
   "metadata": {},
   "outputs": [
    {
     "name": "stdout",
     "output_type": "stream",
     "text": [
      "Five is greater than two!\n"
     ]
    }
   ],
   "source": [
    "if 5 > 2:\n",
    "  print(\"Five is greater than two!\")"
   ]
  },
  {
   "cell_type": "markdown",
   "id": "03031470-e348-40ac-9b4c-7cb34dcda298",
   "metadata": {},
   "source": [
    "task 3"
   ]
  },
  {
   "cell_type": "code",
   "execution_count": 4,
   "id": "5513551a-3eeb-4d2b-8abc-7da2b5eef1ad",
   "metadata": {},
   "outputs": [
    {
     "name": "stdout",
     "output_type": "stream",
     "text": [
      "5\n",
      "Hello, World!\n"
     ]
    }
   ],
   "source": [
    "x = 5\n",
    "y = \"Hello, World!\"\n",
    "print(x)\n",
    "print(y)"
   ]
  },
  {
   "cell_type": "markdown",
   "id": "ce00da54-1447-4d57-b144-14231848f54f",
   "metadata": {},
   "source": [
    "task 4\n"
   ]
  },
  {
   "cell_type": "code",
   "execution_count": 5,
   "id": "26344d75-875a-45c2-8b38-1979c8ad20db",
   "metadata": {},
   "outputs": [
    {
     "name": "stdout",
     "output_type": "stream",
     "text": [
      "Hello, World!\n"
     ]
    }
   ],
   "source": [
    "#This is a comment.\n",
    "print(\"Hello, World!\")\n"
   ]
  },
  {
   "cell_type": "markdown",
   "id": "cea1357b-2934-408a-8012-944c3f18f4da",
   "metadata": {},
   "source": [
    "task 5"
   ]
  },
  {
   "cell_type": "code",
   "execution_count": 7,
   "id": "70ad2b26-a5c3-49f8-a6ab-319820f794c3",
   "metadata": {},
   "outputs": [
    {
     "name": "stdout",
     "output_type": "stream",
     "text": [
      "Five is greater than two!\n",
      "Five is greater than two!\n"
     ]
    }
   ],
   "source": [
    "if 5 > 2:\n",
    " print(\"Five is greater than two!\")  \n",
    "if 5 > 2:\n",
    " print(\"Five is greater than two!\") "
   ]
  },
  {
   "cell_type": "markdown",
   "id": "2b61c24a-017a-48b0-941a-32ba1d4c75fc",
   "metadata": {},
   "source": [
    "task 6"
   ]
  },
  {
   "cell_type": "code",
   "execution_count": 8,
   "id": "2b37853b-f9b2-43f8-bc02-cc0781f912f1",
   "metadata": {},
   "outputs": [
    {
     "name": "stdout",
     "output_type": "stream",
     "text": [
      "Hello, World!\n"
     ]
    }
   ],
   "source": [
    "print(\"Hello, World!\") #This is a comment."
   ]
  },
  {
   "cell_type": "markdown",
   "id": "99679ad7-6249-476d-aa72-87ad0293439a",
   "metadata": {},
   "source": [
    "task 7"
   ]
  },
  {
   "cell_type": "code",
   "execution_count": 9,
   "id": "6cb79954-2e03-41e8-aec4-084b525cd058",
   "metadata": {},
   "outputs": [
    {
     "name": "stdout",
     "output_type": "stream",
     "text": [
      "Cheers, Mate!\n"
     ]
    }
   ],
   "source": [
    "#print(\"Hello, World!\")\n",
    "print(\"Cheers, Mate!\")"
   ]
  },
  {
   "cell_type": "markdown",
   "id": "cb49139d-fe3b-4dcc-abe7-5bd0e9684fee",
   "metadata": {},
   "source": [
    "task 8\n"
   ]
  },
  {
   "cell_type": "code",
   "execution_count": 10,
   "id": "fc8aac32-96e4-4304-996a-10feeb609e4c",
   "metadata": {},
   "outputs": [
    {
     "name": "stdout",
     "output_type": "stream",
     "text": [
      "Hello, World!\n"
     ]
    }
   ],
   "source": [
    "#This is a comment\n",
    "#written in\n",
    "#more than just one line\n",
    "print(\"Hello, World!\") "
   ]
  },
  {
   "cell_type": "markdown",
   "id": "4d260820-fe62-46f9-add1-c979dc12413a",
   "metadata": {},
   "source": [
    "task 9"
   ]
  },
  {
   "cell_type": "code",
   "execution_count": 11,
   "id": "3d0c5d89-a9a9-40ad-8995-1b3952327efd",
   "metadata": {},
   "outputs": [
    {
     "name": "stdout",
     "output_type": "stream",
     "text": [
      "Hello, World!\n"
     ]
    }
   ],
   "source": [
    "\"\"\"\n",
    "This is a comment\n",
    "written in\n",
    "more than just one line\n",
    "\"\"\"\n",
    "print(\"Hello, World!\") \n"
   ]
  },
  {
   "cell_type": "markdown",
   "id": "8cacd4f4-f76b-44b3-b51d-90233c5230c7",
   "metadata": {},
   "source": [
    "task 10"
   ]
  },
  {
   "cell_type": "code",
   "execution_count": 12,
   "id": "39b894fd-654f-4a16-a167-76c5f2639800",
   "metadata": {},
   "outputs": [
    {
     "name": "stdout",
     "output_type": "stream",
     "text": [
      "John\n",
      "John\n",
      "John\n",
      "John\n",
      "John\n",
      "John\n"
     ]
    }
   ],
   "source": [
    "myvar = \"John\"\n",
    "my_var = \"John\"\n",
    "_my_var = \"John\"\n",
    "myVar = \"John\"\n",
    "MYVAR = \"John\"\n",
    "myvar2 = \"John\"\n",
    "print(myvar)\n",
    "print(my_var)\n",
    "print(_my_var)\n",
    "print(myVar)\n",
    "print(MYVAR)\n",
    "print(myvar2)\n"
   ]
  },
  {
   "cell_type": "markdown",
   "id": "ac37878d-6225-427f-8362-149ab7b83af4",
   "metadata": {},
   "source": [
    "task 11"
   ]
  },
  {
   "cell_type": "code",
   "execution_count": 13,
   "id": "1be82030-91b8-4b84-b2f7-b47cfa005b96",
   "metadata": {},
   "outputs": [
    {
     "name": "stdout",
     "output_type": "stream",
     "text": [
      "3\n",
      "3\n",
      "3.0\n"
     ]
    }
   ],
   "source": [
    "x = str(3)\n",
    "y = int(3)\n",
    "z = float(3)\n",
    "print(x)\n",
    "print(y)\n",
    "print(z)\n"
   ]
  },
  {
   "cell_type": "markdown",
   "id": "9c6275bc-4d92-4fc0-813b-aab9f4ffef1d",
   "metadata": {},
   "source": [
    "task 12\n"
   ]
  },
  {
   "cell_type": "code",
   "execution_count": 14,
   "id": "610aa6ec-06ae-4b6b-8c21-05dd47330610",
   "metadata": {},
   "outputs": [
    {
     "name": "stdout",
     "output_type": "stream",
     "text": [
      "<class 'int'>\n",
      "<class 'str'>\n"
     ]
    }
   ],
   "source": [
    "x = 5\n",
    "y = \"John\"\n",
    "print(type(x))\n",
    "print(type(y))"
   ]
  },
  {
   "cell_type": "markdown",
   "id": "d5ba0ab5-0e92-445d-ab0d-f3f565ecc775",
   "metadata": {},
   "source": [
    "task 13"
   ]
  },
  {
   "cell_type": "code",
   "execution_count": 15,
   "id": "ba002865-70dc-4e26-a4c8-39b0f279f08c",
   "metadata": {},
   "outputs": [
    {
     "name": "stdout",
     "output_type": "stream",
     "text": [
      "John\n",
      "John\n"
     ]
    }
   ],
   "source": [
    "x = \"John\"\n",
    "print(x)\n",
    "x = 'John'\n",
    "print(x)\n",
    "#it doesnt metter "
   ]
  },
  {
   "cell_type": "markdown",
   "id": "292d4c88-05bb-47b6-9fbb-fa4ce4b19795",
   "metadata": {},
   "source": [
    "task 14"
   ]
  },
  {
   "cell_type": "code",
   "execution_count": 16,
   "id": "1c3e9b3b-2303-4bc6-b2ee-e61bcb5b624e",
   "metadata": {},
   "outputs": [
    {
     "name": "stdout",
     "output_type": "stream",
     "text": [
      "4\n",
      "Sally\n"
     ]
    }
   ],
   "source": [
    "a = 4\n",
    "A = \"Sally\"\n",
    "print(a)\n",
    "print(A)\n",
    "#it is not the same"
   ]
  },
  {
   "cell_type": "markdown",
   "id": "81868e3d-e306-4330-b62d-949f33905591",
   "metadata": {},
   "source": [
    "task 15"
   ]
  },
  {
   "cell_type": "code",
   "execution_count": 17,
   "id": "08b73ba3-d340-4308-a7d4-ec590dc22213",
   "metadata": {},
   "outputs": [
    {
     "name": "stdout",
     "output_type": "stream",
     "text": [
      "Banana\n",
      "orrange\n",
      "Cherry\n"
     ]
    }
   ],
   "source": [
    "x, y, z = \"Banana\", \"orrange\" , \"Cherry\"\n",
    "print (x)\n",
    "print (y)\n",
    "print (z)"
   ]
  },
  {
   "cell_type": "markdown",
   "id": "864e23f1-9726-4bf3-98aa-728a2b1ccd88",
   "metadata": {},
   "source": [
    "task 16"
   ]
  },
  {
   "cell_type": "code",
   "execution_count": 18,
   "id": "3f15170f-e097-4449-bc5f-1c5cdec82df4",
   "metadata": {},
   "outputs": [
    {
     "name": "stdout",
     "output_type": "stream",
     "text": [
      "Orange\n",
      "Orange\n",
      "Orange\n"
     ]
    }
   ],
   "source": [
    "x = y = z = \"Orange\"\n",
    "print(x)\n",
    "print(y)\n",
    "print(z)\n"
   ]
  },
  {
   "cell_type": "markdown",
   "id": "524742a9-0298-447a-b29f-285615305068",
   "metadata": {},
   "source": [
    "task 17"
   ]
  },
  {
   "cell_type": "code",
   "execution_count": 19,
   "id": "12b9c5e6-6f5f-4b5b-8b66-847469dadf1b",
   "metadata": {},
   "outputs": [
    {
     "name": "stdout",
     "output_type": "stream",
     "text": [
      "banana\n",
      "apple\n",
      "orange\n"
     ]
    }
   ],
   "source": [
    "fruits=['banana', 'apple', 'orange']\n",
    "x,y,z=fruits\n",
    "print (x)\n",
    "print (y)\n",
    "print (z)"
   ]
  },
  {
   "cell_type": "markdown",
   "id": "a80b4854-1919-4002-b0d2-b163ead36318",
   "metadata": {},
   "source": [
    "task 18"
   ]
  },
  {
   "cell_type": "code",
   "execution_count": 20,
   "id": "c65acd59-9184-41ea-a9d5-43f60b700b6e",
   "metadata": {},
   "outputs": [
    {
     "name": "stdout",
     "output_type": "stream",
     "text": [
      "Python is awesome\n"
     ]
    }
   ],
   "source": [
    "x = \"Python is awesome\"\n",
    "print(x)"
   ]
  },
  {
   "cell_type": "markdown",
   "id": "5156cbb7-9cec-4200-9946-3ffd6c268d6d",
   "metadata": {},
   "source": [
    "task 19"
   ]
  },
  {
   "cell_type": "code",
   "execution_count": 21,
   "id": "3fb8bf5c-2213-4e3d-ad79-8bdce7c7fd84",
   "metadata": {},
   "outputs": [
    {
     "name": "stdout",
     "output_type": "stream",
     "text": [
      "Python is awesome\n"
     ]
    }
   ],
   "source": [
    "x = \"Python\"\n",
    "y = \"is\"\n",
    "z = \"awesome\"\n",
    "print(x, y, z)"
   ]
  },
  {
   "cell_type": "markdown",
   "id": "201fc6eb-5c09-4eab-939b-0d1277ac799f",
   "metadata": {},
   "source": [
    "task 20"
   ]
  },
  {
   "cell_type": "code",
   "execution_count": 22,
   "id": "1ceede6f-a0f0-4d5c-86dc-35e01ad00d9b",
   "metadata": {},
   "outputs": [
    {
     "name": "stdout",
     "output_type": "stream",
     "text": [
      "Python is awesome\n"
     ]
    }
   ],
   "source": [
    "x = \"Python \"\n",
    "y = \"is \"\n",
    "z = \"awesome\"\n",
    "print(x + y + z)\n"
   ]
  },
  {
   "cell_type": "markdown",
   "id": "46ec24b2-05e0-44bb-838f-82faa244929a",
   "metadata": {},
   "source": [
    "task 21"
   ]
  },
  {
   "cell_type": "code",
   "execution_count": 23,
   "id": "93bb9469-2dc8-4442-8cf7-4c52aad7c3dc",
   "metadata": {},
   "outputs": [
    {
     "name": "stdout",
     "output_type": "stream",
     "text": [
      "15\n"
     ]
    }
   ],
   "source": [
    "x = 5\n",
    "y = 10\n",
    "print(x + y)"
   ]
  },
  {
   "cell_type": "markdown",
   "id": "02e0c954-428f-4f65-8784-56977135fc7b",
   "metadata": {},
   "source": [
    "task 22\n"
   ]
  },
  {
   "cell_type": "code",
   "execution_count": 25,
   "id": "9c47a535-67a7-40d6-a5c4-fd843179727a",
   "metadata": {},
   "outputs": [
    {
     "name": "stdout",
     "output_type": "stream",
     "text": [
      "5 John\n"
     ]
    }
   ],
   "source": [
    "x = 5\n",
    "y = \"John\"\n",
    "print(x,y)"
   ]
  },
  {
   "cell_type": "markdown",
   "id": "4c08ab9c-e719-4da2-b3a0-8dcf5d99d46b",
   "metadata": {},
   "source": [
    "task 23"
   ]
  },
  {
   "cell_type": "code",
   "execution_count": 26,
   "id": "504aaef8-fb5a-4188-a843-1adea2cc0422",
   "metadata": {},
   "outputs": [
    {
     "name": "stdout",
     "output_type": "stream",
     "text": [
      "Python is awesome\n"
     ]
    }
   ],
   "source": [
    "x = \"awesome\"\n",
    "\n",
    "def myfunc():\n",
    "  print(\"Python is \" + x)\n",
    "\n",
    "myfunc()"
   ]
  },
  {
   "cell_type": "markdown",
   "id": "67a693f1-6a2b-41d8-9445-4b79213b567f",
   "metadata": {},
   "source": [
    "task 24"
   ]
  },
  {
   "cell_type": "code",
   "execution_count": 28,
   "id": "eaf02a43-80c7-4837-934d-dc99c540bda0",
   "metadata": {},
   "outputs": [
    {
     "name": "stdout",
     "output_type": "stream",
     "text": [
      "Python is fantastic\n"
     ]
    }
   ],
   "source": [
    "x = \"awesome\"\n",
    "def myfunc():\n",
    "  global x\n",
    "  x = \"fantastic\"\n",
    "\n",
    "myfunc()\n",
    "\n",
    "print(\"Python is \" + x)\n"
   ]
  },
  {
   "cell_type": "markdown",
   "id": "d8b9b585-9dee-483a-922c-93c24e4ac6b7",
   "metadata": {},
   "source": [
    "task 25"
   ]
  },
  {
   "cell_type": "code",
   "execution_count": 29,
   "id": "17f1a2cf-461c-47ac-a09e-76856babaae8",
   "metadata": {},
   "outputs": [
    {
     "name": "stdout",
     "output_type": "stream",
     "text": [
      "Python is fantastic\n"
     ]
    }
   ],
   "source": [
    "def myfunc():\n",
    "  global x\n",
    "  x = \"fantastic\"\n",
    "\n",
    "myfunc()\n",
    "\n",
    "print(\"Python is \" + x)"
   ]
  },
  {
   "cell_type": "markdown",
   "id": "4ab20a62-2253-4866-8118-b2a531bd37a5",
   "metadata": {},
   "source": [
    "task 26"
   ]
  },
  {
   "cell_type": "code",
   "execution_count": 30,
   "id": "7333bba0-75be-4720-935b-c992760d6b10",
   "metadata": {},
   "outputs": [
    {
     "name": "stdout",
     "output_type": "stream",
     "text": [
      "<class 'int'>\n"
     ]
    }
   ],
   "source": [
    "x = 5\n",
    "print(type(x))"
   ]
  },
  {
   "cell_type": "markdown",
   "id": "1faa1d29-42c2-4eac-9fec-9bb3e111818f",
   "metadata": {},
   "source": [
    "task 27"
   ]
  },
  {
   "cell_type": "code",
   "execution_count": 31,
   "id": "1e0d7962-9dc7-484a-88a9-03fc95452f75",
   "metadata": {},
   "outputs": [
    {
     "name": "stdout",
     "output_type": "stream",
     "text": [
      "Hello World\n",
      "<class 'str'>\n"
     ]
    }
   ],
   "source": [
    "x = \"Hello World\"\n",
    "print(x)\n",
    "print(type(x)) \n"
   ]
  },
  {
   "cell_type": "markdown",
   "id": "632f5f3b-4d11-45df-9d12-377dc1586344",
   "metadata": {},
   "source": [
    "task 28"
   ]
  },
  {
   "cell_type": "code",
   "execution_count": 32,
   "id": "d8b71680-bc88-4ae6-abf4-d9197b917031",
   "metadata": {},
   "outputs": [
    {
     "name": "stdout",
     "output_type": "stream",
     "text": [
      "20\n",
      "<class 'int'>\n"
     ]
    }
   ],
   "source": [
    "x = 20\n",
    "print(x)\n",
    "print(type(x)) \n"
   ]
  },
  {
   "cell_type": "markdown",
   "id": "a7315496-a9a8-44b6-a842-24e626b299a1",
   "metadata": {},
   "source": [
    "task 29"
   ]
  },
  {
   "cell_type": "code",
   "execution_count": 33,
   "id": "9ebf855f-e1dc-4aa9-97b5-67f748704e24",
   "metadata": {},
   "outputs": [
    {
     "name": "stdout",
     "output_type": "stream",
     "text": [
      "20.5\n",
      "<class 'float'>\n"
     ]
    }
   ],
   "source": [
    "x = 20.5\n",
    "print(x)\n",
    "print(type(x)) "
   ]
  },
  {
   "cell_type": "markdown",
   "id": "f64af148-0104-46a5-9ac7-2247015b7a8b",
   "metadata": {},
   "source": [
    "task 30\n"
   ]
  },
  {
   "cell_type": "code",
   "execution_count": 34,
   "id": "e780c9d2-7df2-4958-a2fc-40c678743322",
   "metadata": {},
   "outputs": [
    {
     "name": "stdout",
     "output_type": "stream",
     "text": [
      "1j\n",
      "<class 'complex'>\n"
     ]
    }
   ],
   "source": [
    "x = 1j\n",
    "\n",
    "print(x)\n",
    "print(type(x)) "
   ]
  },
  {
   "cell_type": "markdown",
   "id": "b63a0a80-bbf0-4f9c-8e04-f9178cfbc3cf",
   "metadata": {},
   "source": [
    "task 31\n"
   ]
  },
  {
   "cell_type": "code",
   "execution_count": 35,
   "id": "0bdbe81f-25ec-41f2-bb37-c66b35c6ff14",
   "metadata": {},
   "outputs": [
    {
     "name": "stdout",
     "output_type": "stream",
     "text": [
      "['apple', 'banana', 'cherry']\n",
      "<class 'list'>\n"
     ]
    }
   ],
   "source": [
    "x = [\"apple\", \"banana\", \"cherry\"]\n",
    "print(x)\n",
    "print(type(x))"
   ]
  },
  {
   "cell_type": "markdown",
   "id": "12a3ff1e-b80d-4f99-8fba-eae87f117628",
   "metadata": {},
   "source": [
    "task 32"
   ]
  },
  {
   "cell_type": "code",
   "execution_count": 36,
   "id": "a025283f-9181-42b9-ada6-001824ae9211",
   "metadata": {},
   "outputs": [
    {
     "name": "stdout",
     "output_type": "stream",
     "text": [
      "('apple', 'banana', 'cherry')\n",
      "<class 'tuple'>\n"
     ]
    }
   ],
   "source": [
    "x = (\"apple\", \"banana\", \"cherry\")\n",
    "print(x)\n",
    "print(type(x)) \n"
   ]
  },
  {
   "cell_type": "markdown",
   "id": "48522ec3-ce62-4e90-a9ad-d6e61a380c3c",
   "metadata": {},
   "source": [
    "task 33"
   ]
  },
  {
   "cell_type": "code",
   "execution_count": 37,
   "id": "4dba0e28-9089-4a6f-9603-6253005f0eec",
   "metadata": {},
   "outputs": [
    {
     "name": "stdout",
     "output_type": "stream",
     "text": [
      "range(0, 6)\n",
      "<class 'range'>\n"
     ]
    }
   ],
   "source": [
    "x = range(6)\n",
    "print(x)\n",
    "print(type(x)) "
   ]
  },
  {
   "cell_type": "markdown",
   "id": "3fb49578-a4fe-498e-ac7d-73b3833ecc3b",
   "metadata": {},
   "source": [
    "task 34"
   ]
  },
  {
   "cell_type": "code",
   "execution_count": 38,
   "id": "4bb7248d-b1b1-4136-a398-e23006402c50",
   "metadata": {},
   "outputs": [
    {
     "name": "stdout",
     "output_type": "stream",
     "text": [
      "{'name': 'John', 'age': 36}\n",
      "<class 'dict'>\n"
     ]
    }
   ],
   "source": [
    "x = {\"name\" : \"John\", \"age\" : 36}\n",
    "print(x)\n",
    "print(type(x)) \n"
   ]
  },
  {
   "cell_type": "markdown",
   "id": "f37cd10a-2c2a-4169-9484-611e2606ee6a",
   "metadata": {},
   "source": [
    "task 35"
   ]
  },
  {
   "cell_type": "code",
   "execution_count": 39,
   "id": "e2cc147f-8afe-4220-985d-db5d4b166077",
   "metadata": {},
   "outputs": [
    {
     "name": "stdout",
     "output_type": "stream",
     "text": [
      "{'cherry', 'apple', 'banana'}\n",
      "<class 'set'>\n"
     ]
    }
   ],
   "source": [
    "x = {\"apple\", \"banana\", \"cherry\"}\n",
    "print(x)\n",
    "print(type(x)) "
   ]
  },
  {
   "cell_type": "markdown",
   "id": "2b1734a0-8e26-4932-97af-081223236d1e",
   "metadata": {},
   "source": [
    "task 36\n"
   ]
  },
  {
   "cell_type": "code",
   "execution_count": 40,
   "id": "2d1eafbc-b1f0-475e-a65e-c75f724dea01",
   "metadata": {},
   "outputs": [
    {
     "name": "stdout",
     "output_type": "stream",
     "text": [
      "frozenset({'cherry', 'apple', 'banana'})\n",
      "<class 'frozenset'>\n"
     ]
    }
   ],
   "source": [
    "x = frozenset({\"apple\", \"banana\", \"cherry\"})\n",
    "print(x)\n",
    "print(type(x)) "
   ]
  },
  {
   "cell_type": "markdown",
   "id": "3617b8d1-96dd-496d-ab8e-4223ab87831d",
   "metadata": {},
   "source": [
    "task 37"
   ]
  },
  {
   "cell_type": "code",
   "execution_count": 41,
   "id": "9f6ce944-c57b-4cf1-8181-06c589052a38",
   "metadata": {},
   "outputs": [
    {
     "name": "stdout",
     "output_type": "stream",
     "text": [
      "True\n",
      "<class 'bool'>\n"
     ]
    }
   ],
   "source": [
    "x = True\n",
    "print(x)\n",
    "print(type(x)) \n"
   ]
  },
  {
   "cell_type": "markdown",
   "id": "d583d0e2-db1e-4920-950b-85845e58cfb0",
   "metadata": {},
   "source": [
    "task 38"
   ]
  },
  {
   "cell_type": "code",
   "execution_count": 42,
   "id": "8a48ef28-c129-4ecd-9ed7-c94c722d6e8c",
   "metadata": {},
   "outputs": [
    {
     "name": "stdout",
     "output_type": "stream",
     "text": [
      "b'Hello'\n",
      "<class 'bytes'>\n"
     ]
    }
   ],
   "source": [
    "x = b\"Hello\"\n",
    "print(x)\n",
    "print(type(x)) "
   ]
  },
  {
   "cell_type": "markdown",
   "id": "2b0f9d6d-d66e-4c18-992a-9317b6f1b3a0",
   "metadata": {},
   "source": [
    "task 40"
   ]
  },
  {
   "cell_type": "code",
   "execution_count": 43,
   "id": "ec738eab-889e-459a-bc1c-7d03bea9fb38",
   "metadata": {},
   "outputs": [
    {
     "name": "stdout",
     "output_type": "stream",
     "text": [
      "<memory at 0x106309a80>\n",
      "<class 'memoryview'>\n"
     ]
    }
   ],
   "source": [
    "x = memoryview(bytes(5))\n",
    "print(x)\n",
    "print(type(x)) "
   ]
  },
  {
   "cell_type": "markdown",
   "id": "e433a906-574b-49c8-b384-7fc98fe35c3b",
   "metadata": {},
   "source": [
    "task 41"
   ]
  },
  {
   "cell_type": "code",
   "execution_count": 44,
   "id": "bf749ce7-f573-4197-acf3-b659bfa3f2b3",
   "metadata": {},
   "outputs": [
    {
     "name": "stdout",
     "output_type": "stream",
     "text": [
      "None\n",
      "<class 'NoneType'>\n"
     ]
    }
   ],
   "source": [
    "x = None\n",
    "print(x)\n",
    "print(type(x)) "
   ]
  },
  {
   "cell_type": "markdown",
   "id": "aa755d40-8c9e-4d60-96bf-1bc01df060bc",
   "metadata": {},
   "source": [
    "task 42\n"
   ]
  },
  {
   "cell_type": "code",
   "execution_count": 45,
   "id": "08728500-4561-4ca8-a627-32b951f2627d",
   "metadata": {},
   "outputs": [
    {
     "name": "stdout",
     "output_type": "stream",
     "text": [
      "Hello World\n",
      "<class 'str'>\n"
     ]
    }
   ],
   "source": [
    "x = str(\"Hello World\")\n",
    "\n",
    "print(x)\n",
    "print(type(x)) "
   ]
  },
  {
   "cell_type": "markdown",
   "id": "a4dd520b-149d-4de9-bd0c-9c52999478db",
   "metadata": {},
   "source": [
    "task 43"
   ]
  },
  {
   "cell_type": "code",
   "execution_count": 46,
   "id": "7b7c2d21-9bd6-4250-b906-8f17b70e3658",
   "metadata": {},
   "outputs": [
    {
     "name": "stdout",
     "output_type": "stream",
     "text": [
      "20\n",
      "<class 'int'>\n"
     ]
    }
   ],
   "source": [
    "x = int(20)\n",
    "print(x)\n",
    "print(type(x)) \n"
   ]
  },
  {
   "cell_type": "markdown",
   "id": "c12350da-e161-47f7-b64d-e5b423faf379",
   "metadata": {},
   "source": [
    "task 44"
   ]
  },
  {
   "cell_type": "code",
   "execution_count": 47,
   "id": "c4e21894-88c4-48aa-946f-80c18a5c01c7",
   "metadata": {},
   "outputs": [
    {
     "name": "stdout",
     "output_type": "stream",
     "text": [
      "20.5\n",
      "<class 'float'>\n"
     ]
    }
   ],
   "source": [
    "x = float(20.5)\n",
    "print(x)\n",
    "print(type(x)) \n"
   ]
  },
  {
   "cell_type": "markdown",
   "id": "7d814e0b-4f54-46ee-8c9d-dcfa356b8c26",
   "metadata": {},
   "source": [
    "task 45"
   ]
  },
  {
   "cell_type": "code",
   "execution_count": 48,
   "id": "67328ba3-2f1e-4ef2-8a2b-4e1e4730c556",
   "metadata": {},
   "outputs": [
    {
     "name": "stdout",
     "output_type": "stream",
     "text": [
      "1j\n",
      "<class 'complex'>\n"
     ]
    }
   ],
   "source": [
    "x = complex(1j)\n",
    "print(x)\n",
    "print(type(x)) \n"
   ]
  },
  {
   "cell_type": "markdown",
   "id": "e61e7c57-7a7d-422c-83a7-30368cd02698",
   "metadata": {},
   "source": [
    "task 46"
   ]
  },
  {
   "cell_type": "code",
   "execution_count": 49,
   "id": "29f21d29-8afa-4dc4-b686-7165b24edcb3",
   "metadata": {},
   "outputs": [
    {
     "name": "stdout",
     "output_type": "stream",
     "text": [
      "['apple', 'banana', 'cherry']\n",
      "<class 'list'>\n"
     ]
    }
   ],
   "source": [
    "x = list((\"apple\", \"banana\", \"cherry\"))\n",
    "print(x)\n",
    "print(type(x)) "
   ]
  },
  {
   "cell_type": "markdown",
   "id": "cb41d8e6-818d-4bab-bad9-5b7f9c152946",
   "metadata": {},
   "source": [
    "task 47"
   ]
  },
  {
   "cell_type": "code",
   "execution_count": 51,
   "id": "1d652761-917a-474e-bdb0-601449f8377a",
   "metadata": {},
   "outputs": [
    {
     "name": "stdout",
     "output_type": "stream",
     "text": [
      "('apple', 'banana', 'cherry')\n",
      "<class 'tuple'>\n"
     ]
    }
   ],
   "source": [
    "x = tuple((\"apple\", \"banana\", \"cherry\"))\n",
    "print(x)\n",
    "print(type(x)) "
   ]
  },
  {
   "cell_type": "markdown",
   "id": "692fc2ee-b06c-4b9b-ac2f-01273b0f53b0",
   "metadata": {},
   "source": [
    "task 48"
   ]
  },
  {
   "cell_type": "code",
   "execution_count": 52,
   "id": "f0d2298c-e4dd-4895-ac19-12ae95b2afb1",
   "metadata": {},
   "outputs": [
    {
     "name": "stdout",
     "output_type": "stream",
     "text": [
      "range(0, 6)\n",
      "<class 'range'>\n"
     ]
    }
   ],
   "source": [
    "x = range(6)\n",
    "print(x)\n",
    "print(type(x)) "
   ]
  },
  {
   "cell_type": "markdown",
   "id": "c9192763-2b41-420a-bb50-523061e5eaad",
   "metadata": {},
   "source": [
    "task 49"
   ]
  },
  {
   "cell_type": "code",
   "execution_count": 53,
   "id": "23d065ee-acdb-4907-93da-e60a64b00d3b",
   "metadata": {},
   "outputs": [
    {
     "name": "stdout",
     "output_type": "stream",
     "text": [
      "{'name': 'John', 'age': 36}\n",
      "<class 'dict'>\n"
     ]
    }
   ],
   "source": [
    "x = dict(name=\"John\", age=36)\n",
    "print(x)\n",
    "print(type(x))"
   ]
  },
  {
   "cell_type": "markdown",
   "id": "b10e6e05-433a-40da-92e0-43b59edb4995",
   "metadata": {},
   "source": [
    "task 50"
   ]
  },
  {
   "cell_type": "code",
   "execution_count": 54,
   "id": "4be85f53-10f1-4703-b5f3-5745f710f3d4",
   "metadata": {},
   "outputs": [
    {
     "name": "stdout",
     "output_type": "stream",
     "text": [
      "{'cherry', 'apple', 'banana'}\n",
      "<class 'set'>\n"
     ]
    }
   ],
   "source": [
    "x = set((\"apple\", \"banana\", \"cherry\"))\n",
    "\n",
    "print(x)\n",
    "print(type(x)) "
   ]
  },
  {
   "cell_type": "markdown",
   "id": "fc38a2d8-60bd-4380-9ebd-c305e1e62a27",
   "metadata": {},
   "source": [
    "task 51"
   ]
  },
  {
   "cell_type": "code",
   "execution_count": 55,
   "id": "1354c647-beff-4ea1-8abe-7294042b08fe",
   "metadata": {},
   "outputs": [
    {
     "name": "stdout",
     "output_type": "stream",
     "text": [
      "frozenset({'cherry', 'apple', 'banana'})\n",
      "<class 'frozenset'>\n"
     ]
    }
   ],
   "source": [
    "x = frozenset((\"apple\", \"banana\", \"cherry\"))\n",
    "\n",
    "print(x)\n",
    "print(type(x)) "
   ]
  },
  {
   "cell_type": "markdown",
   "id": "1c3c4dbe-f7e8-489e-9263-b8070566ace9",
   "metadata": {},
   "source": [
    "task 52"
   ]
  },
  {
   "cell_type": "code",
   "execution_count": 56,
   "id": "a01cd669-a3a7-4875-8c06-887f0b40f411",
   "metadata": {},
   "outputs": [
    {
     "name": "stdout",
     "output_type": "stream",
     "text": [
      "True\n",
      "<class 'bool'>\n"
     ]
    }
   ],
   "source": [
    "x = bool(5)\n",
    "print(x)\n",
    "print(type(x)) "
   ]
  },
  {
   "cell_type": "markdown",
   "id": "9338d25d-6f23-480e-90bd-c30ea15e0844",
   "metadata": {},
   "source": [
    "task 53"
   ]
  },
  {
   "cell_type": "code",
   "execution_count": 57,
   "id": "b7754d36-fcaa-4b72-9215-d0515675cb5d",
   "metadata": {},
   "outputs": [
    {
     "name": "stdout",
     "output_type": "stream",
     "text": [
      "b'\\x00\\x00\\x00\\x00\\x00'\n",
      "<class 'bytes'>\n"
     ]
    }
   ],
   "source": [
    "x = bytes(5)\n",
    "print(x)\n",
    "print(type(x)) "
   ]
  },
  {
   "cell_type": "markdown",
   "id": "17f556aa-00b8-4695-bca8-3d09db7f4443",
   "metadata": {},
   "source": [
    "task 54"
   ]
  },
  {
   "cell_type": "code",
   "execution_count": 58,
   "id": "bb50c7a9-776d-4c08-be61-c8c822ac446f",
   "metadata": {},
   "outputs": [
    {
     "name": "stdout",
     "output_type": "stream",
     "text": [
      "bytearray(b'\\x00\\x00\\x00\\x00\\x00')\n",
      "<class 'bytearray'>\n"
     ]
    }
   ],
   "source": [
    "x = bytearray(5)\n",
    "print(x)\n",
    "print(type(x)) "
   ]
  },
  {
   "cell_type": "markdown",
   "id": "7063e976-c934-427b-a186-aea0e96da219",
   "metadata": {},
   "source": [
    "task 55"
   ]
  },
  {
   "cell_type": "code",
   "execution_count": 59,
   "id": "2a62198c-2443-42e2-98ca-9144fcf8a4eb",
   "metadata": {},
   "outputs": [
    {
     "name": "stdout",
     "output_type": "stream",
     "text": [
      "<memory at 0x106309900>\n",
      "<class 'memoryview'>\n"
     ]
    }
   ],
   "source": [
    "x = memoryview(bytes(5))\n",
    "\n",
    "print(x)\n",
    "print(type(x)) "
   ]
  },
  {
   "cell_type": "markdown",
   "id": "8320ecd3-6074-4bff-8ce5-86708c09aa0a",
   "metadata": {},
   "source": [
    "task 56"
   ]
  },
  {
   "cell_type": "code",
   "execution_count": 60,
   "id": "5a18b368-5f27-4ad2-9b9a-16b0c9c28785",
   "metadata": {},
   "outputs": [
    {
     "name": "stdout",
     "output_type": "stream",
     "text": [
      "<class 'int'>\n",
      "<class 'float'>\n",
      "<class 'complex'>\n"
     ]
    }
   ],
   "source": [
    "x = 1\n",
    "y = 2.8\n",
    "z = 1j\n",
    "\n",
    "print(type(x))\n",
    "print(type(y))\n",
    "print(type(z))"
   ]
  },
  {
   "cell_type": "markdown",
   "id": "31502e24-a8bb-4cd5-bfdd-bdd124b8866c",
   "metadata": {},
   "source": [
    "task 57"
   ]
  },
  {
   "cell_type": "code",
   "execution_count": 61,
   "id": "76a31b1b-ab7b-4334-a4f2-078cce6b238f",
   "metadata": {},
   "outputs": [
    {
     "name": "stdout",
     "output_type": "stream",
     "text": [
      "<class 'int'>\n",
      "<class 'int'>\n",
      "<class 'int'>\n"
     ]
    }
   ],
   "source": [
    "x = 1\n",
    "y = 35656222554887711\n",
    "z = -3255522\n",
    "\n",
    "print(type(x))\n",
    "print(type(y))\n",
    "print(type(z))"
   ]
  },
  {
   "cell_type": "markdown",
   "id": "95fb09f5-6814-41d9-b51f-97930b42a797",
   "metadata": {},
   "source": [
    "task 58"
   ]
  },
  {
   "cell_type": "code",
   "execution_count": 62,
   "id": "d7774bf8-cc58-463a-a82a-53785455f173",
   "metadata": {},
   "outputs": [
    {
     "name": "stdout",
     "output_type": "stream",
     "text": [
      "<class 'float'>\n",
      "<class 'float'>\n",
      "<class 'float'>\n"
     ]
    }
   ],
   "source": [
    "x = 1.10\n",
    "y = 1.0\n",
    "z = -35.59\n",
    "\n",
    "print(type(x))\n",
    "print(type(y))\n",
    "print(type(z))"
   ]
  },
  {
   "cell_type": "markdown",
   "id": "744f9e2a-c43f-488b-882a-3a20f443c35f",
   "metadata": {},
   "source": [
    "task 59"
   ]
  },
  {
   "cell_type": "code",
   "execution_count": 63,
   "id": "e91551da-6b29-4c25-9917-87119eb1b7ef",
   "metadata": {},
   "outputs": [
    {
     "name": "stdout",
     "output_type": "stream",
     "text": [
      "<class 'float'>\n",
      "<class 'float'>\n",
      "<class 'float'>\n"
     ]
    }
   ],
   "source": [
    "x = 35e3\n",
    "y = 12E4\n",
    "z = -87.7e100\n",
    "\n",
    "print(type(x))\n",
    "print(type(y))\n",
    "print(type(z))"
   ]
  },
  {
   "cell_type": "markdown",
   "id": "bd72465b-58bb-462c-931d-669eea45c070",
   "metadata": {},
   "source": [
    "task 60"
   ]
  },
  {
   "cell_type": "code",
   "execution_count": 64,
   "id": "bf58e926-4021-4bcb-b513-dd58c8fed9ff",
   "metadata": {},
   "outputs": [
    {
     "name": "stdout",
     "output_type": "stream",
     "text": [
      "<class 'complex'>\n",
      "<class 'complex'>\n",
      "<class 'complex'>\n"
     ]
    }
   ],
   "source": [
    "x = 3+5j\n",
    "y = 5j\n",
    "z = -5j\n",
    "\n",
    "print(type(x))\n",
    "print(type(y))\n",
    "print(type(z))\n"
   ]
  },
  {
   "cell_type": "markdown",
   "id": "d7c3888c-2005-4b73-aff4-86d947786232",
   "metadata": {},
   "source": [
    "task 61"
   ]
  },
  {
   "cell_type": "code",
   "execution_count": 65,
   "id": "3182f7cc-4943-443a-9cab-c56ab69202aa",
   "metadata": {},
   "outputs": [
    {
     "name": "stdout",
     "output_type": "stream",
     "text": [
      "1.0\n",
      "2\n",
      "(1+0j)\n",
      "<class 'float'>\n",
      "<class 'int'>\n",
      "<class 'complex'>\n"
     ]
    }
   ],
   "source": [
    "x = 1    # int\n",
    "y = 2.8  # float\n",
    "z = 1j   # complex\n",
    "\n",
    "a = float(x)\n",
    "b = int(y)\n",
    "c = complex(x)\n",
    "\n",
    "print(a)\n",
    "print(b)\n",
    "print(c)\n",
    "\n",
    "print(type(a))\n",
    "print(type(b))\n",
    "print(type(c))"
   ]
  },
  {
   "cell_type": "markdown",
   "id": "9b85b641-7741-4ea8-955d-a53517318a33",
   "metadata": {},
   "source": [
    "task 62"
   ]
  },
  {
   "cell_type": "code",
   "execution_count": 66,
   "id": "cd6717bb-0a45-45a3-8b53-7f4d3f531409",
   "metadata": {},
   "outputs": [
    {
     "name": "stdout",
     "output_type": "stream",
     "text": [
      "3\n"
     ]
    }
   ],
   "source": [
    "import random\n",
    "\n",
    "print(random.randrange(1, 10))"
   ]
  },
  {
   "cell_type": "markdown",
   "id": "1f046f43-5794-4566-9ec0-744a351efb35",
   "metadata": {},
   "source": [
    "task 63"
   ]
  },
  {
   "cell_type": "code",
   "execution_count": 67,
   "id": "4c83dfc3-c673-4fa8-87e9-43abe11f1413",
   "metadata": {},
   "outputs": [
    {
     "name": "stdout",
     "output_type": "stream",
     "text": [
      "1\n",
      "2\n",
      "3\n"
     ]
    }
   ],
   "source": [
    "x = int(1)\n",
    "y = int(2.8)\n",
    "z = int(\"3\")\n",
    "print(x)\n",
    "print(y)\n",
    "print(z)"
   ]
  },
  {
   "cell_type": "markdown",
   "id": "397da68b-b712-45d4-92e7-4117e09e897d",
   "metadata": {},
   "source": [
    "task 64"
   ]
  },
  {
   "cell_type": "code",
   "execution_count": 68,
   "id": "f4c28552-b6bf-442a-9276-841f7adc6a3e",
   "metadata": {},
   "outputs": [
    {
     "name": "stdout",
     "output_type": "stream",
     "text": [
      "1.0\n",
      "2.8\n",
      "3.0\n",
      "4.2\n"
     ]
    }
   ],
   "source": [
    "x = float(1)\n",
    "y = float(2.8)\n",
    "z = float(\"3\")\n",
    "w = float(\"4.2\")\n",
    "print(x)\n",
    "print(y)\n",
    "print(z)\n",
    "print(w)"
   ]
  },
  {
   "cell_type": "markdown",
   "id": "e1ebf248-39da-4179-b5ac-88af481dfb36",
   "metadata": {},
   "source": [
    "task 65"
   ]
  },
  {
   "cell_type": "code",
   "execution_count": 69,
   "id": "d0c7acbd-2e18-469f-a57b-da82ff2a7c8f",
   "metadata": {},
   "outputs": [
    {
     "name": "stdout",
     "output_type": "stream",
     "text": [
      "s1\n",
      "2\n",
      "3.0\n"
     ]
    }
   ],
   "source": [
    "x = str(\"s1\")\n",
    "y = str(2)\n",
    "z = str(3.0)\n",
    "print(x)\n",
    "print(y)\n",
    "print(z)"
   ]
  },
  {
   "cell_type": "markdown",
   "id": "786adf58-a5d3-4809-82b1-f7a5b6d477d5",
   "metadata": {},
   "source": [
    "task 66"
   ]
  },
  {
   "cell_type": "code",
   "execution_count": 70,
   "id": "93d285d3-df55-43c6-bf8c-241e34e04fc9",
   "metadata": {},
   "outputs": [
    {
     "name": "stdout",
     "output_type": "stream",
     "text": [
      "Lorem ipsum dolor sit amet,\n",
      "consectetur adipiscing elit,\n",
      "sed do eiusmod tempor incididunt\n",
      "ut labore et dolore magna aliqua.\n"
     ]
    }
   ],
   "source": [
    "a = \"\"\"Lorem ipsum dolor sit amet,\n",
    "consectetur adipiscing elit,\n",
    "sed do eiusmod tempor incididunt\n",
    "ut labore et dolore magna aliqua.\"\"\"\n",
    "print(a)\n"
   ]
  },
  {
   "cell_type": "markdown",
   "id": "4382c102-b957-4073-b7ed-4c5e7f84b016",
   "metadata": {},
   "source": [
    "task 67"
   ]
  },
  {
   "cell_type": "code",
   "execution_count": 71,
   "id": "b464082b-9a1c-43dc-9467-5571a6075427",
   "metadata": {},
   "outputs": [
    {
     "name": "stdout",
     "output_type": "stream",
     "text": [
      "Lorem ipsum dolor sit amet,\n",
      "consectetur adipiscing elit,\n",
      "sed do eiusmod tempor incididunt\n",
      "ut labore et dolore magna aliqua.\n"
     ]
    }
   ],
   "source": [
    "a = '''Lorem ipsum dolor sit amet,\n",
    "consectetur adipiscing elit,\n",
    "sed do eiusmod tempor incididunt\n",
    "ut labore et dolore magna aliqua.'''\n",
    "print(a)"
   ]
  },
  {
   "cell_type": "markdown",
   "id": "ffa386df-80f2-40c3-abe9-687d74610a4f",
   "metadata": {},
   "source": [
    "task 68"
   ]
  },
  {
   "cell_type": "code",
   "execution_count": 72,
   "id": "a1d24c5a-e21d-4fb1-884c-be09b9375c0b",
   "metadata": {},
   "outputs": [
    {
     "name": "stdout",
     "output_type": "stream",
     "text": [
      "llo\n"
     ]
    }
   ],
   "source": [
    "b = \"Hello, World!\"\n",
    "print(b[2:5])"
   ]
  },
  {
   "cell_type": "markdown",
   "id": "fbc2feb5-7134-4a8b-92d8-aa6cdb76ffa8",
   "metadata": {},
   "source": [
    "task 69"
   ]
  },
  {
   "cell_type": "code",
   "execution_count": 73,
   "id": "8e09c05b-5590-49ca-8c3b-7ee2f0c2cdd9",
   "metadata": {},
   "outputs": [
    {
     "name": "stdout",
     "output_type": "stream",
     "text": [
      "Hello\n"
     ]
    }
   ],
   "source": [
    "b = \"Hello, World!\"\n",
    "print(b[:5])\n"
   ]
  },
  {
   "cell_type": "markdown",
   "id": "09177d43-cb54-4490-8d82-9dd9d136ef61",
   "metadata": {},
   "source": [
    "task 70"
   ]
  },
  {
   "cell_type": "code",
   "execution_count": 74,
   "id": "9a3b0983-7e20-4746-9ff1-c64c3256d05e",
   "metadata": {},
   "outputs": [
    {
     "name": "stdout",
     "output_type": "stream",
     "text": [
      "llo, World!\n"
     ]
    }
   ],
   "source": [
    "b = \"Hello, World!\"\n",
    "print(b[2:])"
   ]
  },
  {
   "cell_type": "markdown",
   "id": "2a36e682-f86a-48de-ab21-360b10c4f775",
   "metadata": {},
   "source": [
    "task 71"
   ]
  },
  {
   "cell_type": "code",
   "execution_count": 75,
   "id": "a22b19b9-5067-4d79-a86b-198e266705b3",
   "metadata": {},
   "outputs": [
    {
     "name": "stdout",
     "output_type": "stream",
     "text": [
      "orl\n"
     ]
    }
   ],
   "source": [
    "b = \"Hello, World!\"\n",
    "print(b[-5:-2])\n"
   ]
  },
  {
   "cell_type": "markdown",
   "id": "38ceb2cb-1f40-4144-9284-5b4ec9432d6e",
   "metadata": {},
   "source": [
    "task 72"
   ]
  },
  {
   "cell_type": "code",
   "execution_count": 76,
   "id": "7119fd8b-dad8-4926-a4ff-0fb0f9754ccd",
   "metadata": {},
   "outputs": [
    {
     "name": "stdout",
     "output_type": "stream",
     "text": [
      "HELLO, WORLD!\n"
     ]
    }
   ],
   "source": [
    "a = \"Hello, World!\"\n",
    "print(a.upper())\n"
   ]
  },
  {
   "cell_type": "markdown",
   "id": "6e0598b6-c472-468e-aaf4-e7e39addc6f7",
   "metadata": {},
   "source": [
    "task 73"
   ]
  },
  {
   "cell_type": "code",
   "execution_count": 77,
   "id": "2c25225f-566c-42a9-89f1-c4dcb539af7b",
   "metadata": {},
   "outputs": [
    {
     "name": "stdout",
     "output_type": "stream",
     "text": [
      "hello, world!\n"
     ]
    }
   ],
   "source": [
    "a = \"Hello, World!\"\n",
    "print(a.lower())"
   ]
  },
  {
   "cell_type": "markdown",
   "id": "98ba1acd-ea4f-4e36-9b27-e878872fc218",
   "metadata": {},
   "source": [
    "task 74"
   ]
  },
  {
   "cell_type": "code",
   "execution_count": 78,
   "id": "f903d17a-37ed-40d7-8602-d9707b04e508",
   "metadata": {},
   "outputs": [
    {
     "name": "stdout",
     "output_type": "stream",
     "text": [
      "Hello, World!\n"
     ]
    }
   ],
   "source": [
    "a = \"      Hello, World!      \"\n",
    "print(a.strip())"
   ]
  },
  {
   "cell_type": "markdown",
   "id": "88328bcf-da47-49ef-86e4-9d6502c0a481",
   "metadata": {},
   "source": [
    "task 75"
   ]
  },
  {
   "cell_type": "code",
   "execution_count": 79,
   "id": "8df1a346-d69d-47ac-9eaf-5c9551ec6248",
   "metadata": {},
   "outputs": [
    {
     "name": "stdout",
     "output_type": "stream",
     "text": [
      "Jello, World!\n"
     ]
    }
   ],
   "source": [
    "a = \"Hello, World!\"\n",
    "print(a.replace(\"H\", \"J\"))"
   ]
  },
  {
   "cell_type": "markdown",
   "id": "c7b4e9f9-6bf9-42e2-a31d-5f675fe8492f",
   "metadata": {},
   "source": [
    "task 76"
   ]
  },
  {
   "cell_type": "code",
   "execution_count": 80,
   "id": "c08502a9-cb36-4d0d-8e93-716156997fa8",
   "metadata": {},
   "outputs": [
    {
     "name": "stdout",
     "output_type": "stream",
     "text": [
      "['Hello', ' World!']\n"
     ]
    }
   ],
   "source": [
    "a = \"Hello, World!\"\n",
    "b = a.split(\",\")\n",
    "print(b)"
   ]
  },
  {
   "cell_type": "markdown",
   "id": "fa5911ae-ab72-48fc-a141-12efb379390e",
   "metadata": {},
   "source": [
    "task 77"
   ]
  },
  {
   "cell_type": "code",
   "execution_count": 81,
   "id": "5a015575-a188-44c9-8d17-4c9afb5a745e",
   "metadata": {},
   "outputs": [
    {
     "name": "stdout",
     "output_type": "stream",
     "text": [
      "HelloWorld\n"
     ]
    }
   ],
   "source": [
    "a = \"Hello\"\n",
    "b = \"World\"\n",
    "c = a + b\n",
    "print(c)"
   ]
  },
  {
   "cell_type": "markdown",
   "id": "0e2ce92b-e5f2-4370-bae1-86a088f5c14e",
   "metadata": {},
   "source": [
    "task 78"
   ]
  },
  {
   "cell_type": "code",
   "execution_count": 82,
   "id": "71dd4536-1152-4755-a65d-960b1eeaecdc",
   "metadata": {},
   "outputs": [
    {
     "name": "stdout",
     "output_type": "stream",
     "text": [
      "Hello World\n"
     ]
    }
   ],
   "source": [
    "a = \"Hello\"\n",
    "b = \"World\"\n",
    "c = a + \" \" + b\n",
    "print(c)"
   ]
  },
  {
   "cell_type": "markdown",
   "id": "6e52177e-2582-425e-b3ad-02fe0a03dfdf",
   "metadata": {},
   "source": [
    "task 79"
   ]
  },
  {
   "cell_type": "code",
   "execution_count": 83,
   "id": "c40c335a-a2ba-403e-8c8a-49ad41a3ab11",
   "metadata": {},
   "outputs": [
    {
     "name": "stdout",
     "output_type": "stream",
     "text": [
      "My name is John, I am 36\n"
     ]
    }
   ],
   "source": [
    "age = 36\n",
    "txt = f\"My name is John, I am {age}\"\n",
    "print(txt)"
   ]
  },
  {
   "cell_type": "markdown",
   "id": "2729ac3c-2257-492d-83a1-a8ef3c1aa79e",
   "metadata": {},
   "source": [
    "task 80"
   ]
  },
  {
   "cell_type": "code",
   "execution_count": 84,
   "id": "4379c0b3-6cda-437f-ae30-1c59045ef860",
   "metadata": {},
   "outputs": [
    {
     "name": "stdout",
     "output_type": "stream",
     "text": [
      "The price is 59 dollars\n"
     ]
    }
   ],
   "source": [
    "price = 59\n",
    "txt = f\"The price is {price} dollars\"\n",
    "print(txt)"
   ]
  },
  {
   "cell_type": "markdown",
   "id": "45cf37e5-1e94-4998-839c-e6c41d625c1a",
   "metadata": {},
   "source": [
    "task 81"
   ]
  },
  {
   "cell_type": "code",
   "execution_count": 85,
   "id": "04cf97ec-0ea9-4785-98a5-4a20c80e5637",
   "metadata": {},
   "outputs": [
    {
     "name": "stdout",
     "output_type": "stream",
     "text": [
      "The price is 59.00 dollars\n"
     ]
    }
   ],
   "source": [
    "price = 59\n",
    "txt = f\"The price is {price:.2f} dollars\"\n",
    "print(txt)"
   ]
  },
  {
   "cell_type": "markdown",
   "id": "d2c456e0-dc28-45db-8fd1-e93b9a5199d5",
   "metadata": {},
   "source": [
    "task 82"
   ]
  },
  {
   "cell_type": "code",
   "execution_count": 86,
   "id": "de6bef10-318c-41f0-99a9-43403b99ac70",
   "metadata": {},
   "outputs": [
    {
     "name": "stdout",
     "output_type": "stream",
     "text": [
      "The price is 1180 dollars\n"
     ]
    }
   ],
   "source": [
    "txt = f\"The price is {20 * 59} dollars\"\n",
    "print(txt)"
   ]
  },
  {
   "cell_type": "markdown",
   "id": "4daa9243-9346-4157-abb6-c89d0876a417",
   "metadata": {},
   "source": [
    "task 83"
   ]
  },
  {
   "cell_type": "code",
   "execution_count": 87,
   "id": "301cf0ec-7028-4d2d-9b14-8b0646e1d5fa",
   "metadata": {},
   "outputs": [
    {
     "name": "stdout",
     "output_type": "stream",
     "text": [
      "It's alright.\n"
     ]
    }
   ],
   "source": [
    "txt = 'It\\'s alright.'\n",
    "print(txt) "
   ]
  },
  {
   "cell_type": "markdown",
   "id": "2fbb67b3-5d37-4e1e-b7b2-1a6feb6bee66",
   "metadata": {},
   "source": [
    "task 84"
   ]
  },
  {
   "cell_type": "code",
   "execution_count": 88,
   "id": "46acbd30-1355-4b30-afe9-27c064cd6d00",
   "metadata": {},
   "outputs": [
    {
     "name": "stdout",
     "output_type": "stream",
     "text": [
      "This will insert one \\ (backslash).\n"
     ]
    }
   ],
   "source": [
    "txt = \"This will insert one \\\\ (backslash).\"\n",
    "print(txt) "
   ]
  },
  {
   "cell_type": "markdown",
   "id": "6cd37972-9ead-43c8-bb8a-2aef51aad392",
   "metadata": {},
   "source": [
    "task 85"
   ]
  },
  {
   "cell_type": "code",
   "execution_count": 89,
   "id": "4d0df5bc-521d-4268-8d5f-5c4defa0ee71",
   "metadata": {},
   "outputs": [
    {
     "name": "stdout",
     "output_type": "stream",
     "text": [
      "Hello\n",
      "World!\n"
     ]
    }
   ],
   "source": [
    "txt = \"Hello\\nWorld!\"\n",
    "print(txt) "
   ]
  },
  {
   "cell_type": "markdown",
   "id": "380d0aa3-dbc5-4597-bc39-11e072e47043",
   "metadata": {},
   "source": [
    "task 86"
   ]
  },
  {
   "cell_type": "code",
   "execution_count": 95,
   "id": "0b3a94d5-028a-43b3-a2b8-a1eb1374b078",
   "metadata": {},
   "outputs": [
    {
     "name": "stdout",
     "output_type": "stream",
     "text": [
      "World!\n"
     ]
    }
   ],
   "source": [
    "txt = \"Hello\\rWorld!\"\n",
    "print(txt) \n"
   ]
  },
  {
   "cell_type": "markdown",
   "id": "f301041e-29df-41a6-8539-cf77bc7635a0",
   "metadata": {},
   "source": [
    "tsak 87"
   ]
  },
  {
   "cell_type": "code",
   "execution_count": 96,
   "id": "6cf694d3-dfb6-41c3-9027-688589646e2c",
   "metadata": {},
   "outputs": [
    {
     "name": "stdout",
     "output_type": "stream",
     "text": [
      "Hello\tWorld!\n"
     ]
    }
   ],
   "source": [
    "txt = \"Hello\\tWorld!\"\n",
    "print(txt) \n"
   ]
  },
  {
   "cell_type": "markdown",
   "id": "1673906b-e786-4953-8597-db9e73644324",
   "metadata": {},
   "source": [
    "task 88"
   ]
  },
  {
   "cell_type": "code",
   "execution_count": 99,
   "id": "a95feafe-2182-4777-bcdb-dcef352a4796",
   "metadata": {},
   "outputs": [
    {
     "name": "stdout",
     "output_type": "stream",
     "text": [
      "HelloWorld!\n"
     ]
    }
   ],
   "source": [
    "txt = \"Hello \\bWorld!\"\n",
    "print(txt) \n"
   ]
  },
  {
   "cell_type": "markdown",
   "id": "25842120-7853-4d60-9320-22aed2657598",
   "metadata": {},
   "source": [
    "task 89"
   ]
  },
  {
   "cell_type": "code",
   "execution_count": 100,
   "id": "da59076a-245a-4743-b753-ab0bccd218c9",
   "metadata": {},
   "outputs": [
    {
     "name": "stdout",
     "output_type": "stream",
     "text": [
      "Hello\n"
     ]
    }
   ],
   "source": [
    "txt = \"\\110\\145\\154\\154\\157\"\n",
    "print(txt) \n"
   ]
  },
  {
   "cell_type": "markdown",
   "id": "7a5f129c-0f6d-4b6c-ae14-b5bb9175e71c",
   "metadata": {},
   "source": [
    "task 90"
   ]
  },
  {
   "cell_type": "code",
   "execution_count": 101,
   "id": "dbbfdb48-faf2-42b1-8b68-311b746f0082",
   "metadata": {},
   "outputs": [
    {
     "name": "stdout",
     "output_type": "stream",
     "text": [
      "Hello\n"
     ]
    }
   ],
   "source": [
    "txt = \"\\x48\\x65\\x6c\\x6c\\x6f\"\n",
    "print(txt) "
   ]
  },
  {
   "cell_type": "code",
   "execution_count": null,
   "id": "12974fd4-907f-4e6f-a2df-04272f3832e2",
   "metadata": {},
   "outputs": [],
   "source": []
  }
 ],
 "metadata": {
  "kernelspec": {
   "display_name": "Python 3 (ipykernel)",
   "language": "python",
   "name": "python3"
  },
  "language_info": {
   "codemirror_mode": {
    "name": "ipython",
    "version": 3
   },
   "file_extension": ".py",
   "mimetype": "text/x-python",
   "name": "python",
   "nbconvert_exporter": "python",
   "pygments_lexer": "ipython3",
   "version": "3.12.7"
  }
 },
 "nbformat": 4,
 "nbformat_minor": 5
}
